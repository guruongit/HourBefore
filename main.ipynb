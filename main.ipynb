{
 "cells": [
  {
   "cell_type": "code",
   "execution_count": 2,
   "metadata": {},
   "outputs": [],
   "source": [
    "import numpy as np\n",
    "import random\n",
    "import math\n",
    "import matplotlib.pyplot as plt \n",
    "%matplotlib inline \n",
    "\n",
    "    "
   ]
  },
  {
   "cell_type": "code",
   "execution_count": 3,
   "metadata": {
    "scrolled": false
   },
   "outputs": [
    {
     "name": "stdout",
     "output_type": "stream",
     "text": [
      "Enter Area of your state in b/w 1000 kmsq and 100000000 km sq: 10000\n",
      "Enter your state population in b/w 20000 to 1000000: 100000\n",
      "Standardise area of state:  10000 100\n",
      "[Airport id:1 location:7377 populationaround:2363\n",
      ", Airport id:2 location:9565 populationaround:4647\n",
      ", Airport id:3 location:8717 populationaround:1945\n",
      ", Airport id:4 location:3262 populationaround:4579\n",
      ", Airport id:5 location:4694 populationaround:3590\n",
      ", Airport id:6 location:2451 populationaround:794\n",
      ", Airport id:7 location:1060 populationaround:3326\n",
      ", Airport id:8 location:4416 populationaround:2870\n",
      ", Airport id:9 location:3703 populationaround:5150\n",
      ", Airport id:10 location:7384 populationaround:4260\n",
      ", Airport id:11 location:9 populationaround:3877\n",
      ", Airport id:12 location:3068 populationaround:5156\n",
      ", Airport id:13 location:8478 populationaround:3223\n",
      ", Airport id:14 location:567 populationaround:4819\n",
      ", Airport id:15 location:9017 populationaround:4855\n",
      ", Airport id:16 location:7674 populationaround:4391\n",
      ", Airport id:17 location:1435 populationaround:2470\n",
      ", Airport id:18 location:8461 populationaround:2468\n",
      ", Airport id:19 location:7286 populationaround:4677\n",
      "]\n",
      "[Airplane id:1 name:Global 6500 maxcapacity:20 vinair:900 landingdist:1 takeoffdist:1 minpilot:1\n",
      ", Airplane id:2 name:Boeing 737 maxcapacity:400 vinair:700 landingdist:2 takeoffdist:2 minpilot:2\n",
      ", Airplane id:3 name:Boeing 737 maxcapacity:400 vinair:700 landingdist:2 takeoffdist:2 minpilot:2\n",
      ", Airplane id:4 name:Boeing 737 maxcapacity:400 vinair:700 landingdist:2 takeoffdist:2 minpilot:2\n",
      ", Airplane id:5 name:Boeing 737 maxcapacity:400 vinair:700 landingdist:2 takeoffdist:2 minpilot:2\n",
      "]\n",
      "5\n"
     ]
    },
    {
     "data": {
      "image/png": "[encoded data removed]",
      "text/plain": [
       "<Figure size 432x288 with 1 Axes>"
      ]
     },
     "metadata": {
      "needs_background": "light"
     },
     "output_type": "display_data"
    },
    {
     "name": "stdout",
     "output_type": "stream",
     "text": [
      "Enter the no of minutes you want to run this simulation20\n",
      "[Flight id:1 No of passengers:20 Airplane id:1 Depart Airpot ID:15 Airrival Airport ID:13 Path ID:1 Initial Position:9017 Take of time:1 Landing time:1\n",
      ", Flight id:2 No of passengers:400 Airplane id:2 Depart Airpot ID:5 Airrival Airport ID:11 Path ID:2 Initial Position:4694 Take of time:2 Landing time:1\n",
      ", Flight id:3 No of passengers:400 Airplane id:3 Depart Airpot ID:7 Airrival Airport ID:3 Path ID:3 Initial Position:1060 Take of time:3 Landing time:1\n",
      ", Flight id:4 No of passengers:400 Airplane id:4 Depart Airpot ID:13 Airrival Airport ID:5 Path ID:4 Initial Position:8478 Take of time:4 Landing time:1\n",
      ", Flight id:5 No of passengers:400 Airplane id:5 Depart Airpot ID:2 Airrival Airport ID:19 Path ID:5 Initial Position:9565 Take of time:5 Landing time:1\n",
      ", Flight id:6 No of passengers:20 Airplane id:1 Depart Airpot ID:7 Airrival Airport ID:10 Path ID:6 Initial Position:1060 Take of time:6 Landing time:1\n",
      ", Flight id:7 No of passengers:400 Airplane id:2 Depart Airpot ID:18 Airrival Airport ID:12 Path ID:7 Initial Position:8461 Take of time:7 Landing time:1\n",
      ", Flight id:8 No of passengers:400 Airplane id:3 Depart Airpot ID:9 Airrival Airport ID:1 Path ID:8 Initial Position:3703 Take of time:8 Landing time:1\n",
      ", Flight id:9 No of passengers:400 Airplane id:4 Depart Airpot ID:12 Airrival Airport ID:8 Path ID:9 Initial Position:3068 Take of time:10 Landing time:1\n",
      ", Flight id:10 No of passengers:400 Airplane id:5 Depart Airpot ID:19 Airrival Airport ID:13 Path ID:10 Initial Position:7286 Take of time:11 Landing time:1\n",
      ", Flight id:11 No of passengers:20 Airplane id:1 Depart Airpot ID:15 Airrival Airport ID:16 Path ID:11 Initial Position:9017 Take of time:12 Landing time:1\n",
      ", Flight id:12 No of passengers:400 Airplane id:2 Depart Airpot ID:7 Airrival Airport ID:1 Path ID:12 Initial Position:1060 Take of time:13 Landing time:1\n",
      ", Flight id:13 No of passengers:400 Airplane id:3 Depart Airpot ID:9 Airrival Airport ID:15 Path ID:13 Initial Position:3703 Take of time:14 Landing time:1\n",
      ", Flight id:14 No of passengers:400 Airplane id:4 Depart Airpot ID:1 Airrival Airport ID:5 Path ID:14 Initial Position:7377 Take of time:15 Landing time:1\n",
      ", Flight id:15 No of passengers:400 Airplane id:5 Depart Airpot ID:15 Airrival Airport ID:11 Path ID:15 Initial Position:9017 Take of time:16 Landing time:1\n",
      ", Flight id:16 No of passengers:20 Airplane id:1 Depart Airpot ID:16 Airrival Airport ID:18 Path ID:16 Initial Position:7674 Take of time:17 Landing time:1\n",
      ", Flight id:17 No of passengers:400 Airplane id:2 Depart Airpot ID:7 Airrival Airport ID:13 Path ID:17 Initial Position:1060 Take of time:18 Landing time:1\n",
      "]\n",
      "Enter pathid of airplane to see its path or 0 to exit8\n"
     ]
    },
    {
     "data": {
      "image/png": "[encoded data removed]",
      "text/plain": [
       "<Figure size 432x288 with 1 Axes>"
      ]
     },
     "metadata": {
      "needs_background": "light"
     },
     "output_type": "display_data"
    },
    {
     "data": {
      "image/png": "[encoded data removed]",
      "text/plain": [
       "<Figure size 432x288 with 1 Axes>"
      ]
     },
     "metadata": {
      "needs_background": "light"
     },
     "output_type": "display_data"
    },
    {
     "name": "stdout",
     "output_type": "stream",
     "text": [
      "Enter pathid of airplane to see its path or 0 to exit0\n"
     ]
    }
   ],
   "source": [
    "import numpy as np\n",
    "import random\n",
    "import math\n",
    "import matplotlib.pyplot as plt \n",
    "%matplotlib inline \n",
    "\n",
    "\n",
    "class airport:\n",
    "    id = 0\n",
    "    def __init__(self,location, populationaround):\n",
    "        self.id = airport.count()\n",
    "        self.location = location\n",
    "        self.population = populationaround\n",
    "        self.lastflytime = 0\n",
    "        #self.rechairpid =self.id    #add airports in incresing distance from origin\n",
    "       # self.nrunway = nrunway\n",
    "    def count():\n",
    "        airport.id = airport.id +1\n",
    "        return airport.id\n",
    "    def __repr__(self): \n",
    "        return \"Airport id:% s location:% s populationaround:% s\\n\" % (self.id, self.location, self.population) \n",
    "    def flightrate(population):\n",
    "        flightrate = int(population*0.01)\n",
    "        return flightrate\n",
    "\n",
    "class airplane:\n",
    "    id = 0\n",
    "    def __init__(self, name, maxcapacity, vinair, landingdist, takeoffdist, minpilot):\n",
    "        self.id = airplane.count()\n",
    "        self.name = name\n",
    "        self.maxcapacity = maxcapacity\n",
    "        self.vinair = vinair\n",
    "        self.landingdist = landingdist\n",
    "        self.takeoffdist = takeoffdist\n",
    "        self.minpilot = minpilot\n",
    "        \n",
    "      #  self.pilotlicencetype = pilotlicencetype\n",
    "    \n",
    "    def count():\n",
    "        airplane.id = airplane.id +1\n",
    "        return airplane.id\n",
    "    def __repr__(self): \n",
    "        return \"Airplane id:% s name:% s maxcapacity:% s vinair:% s landingdist:% s takeoffdist:% s minpilot:% s\\n\" % (self.id, self.name, self.maxcapacity, self.vinair, self.landingdist, self.takeoffdist, self.minpilot)\n",
    "\n",
    "\n",
    "\n",
    "class flight:                   # if position <= takeofdistance so inflight \n",
    "    id = 0\n",
    "    time = 0\n",
    "    k = 0\n",
    "    # for temp path\n",
    "    def __init__(self,noofpassengers, airplaneid, departairportid, arriairportid,edge,takeoftime):\n",
    "        self.id = flight.count()\n",
    "        self.noofpassengers = flight.repopulate(departairportid,arriairportid,noofpassengers)\n",
    "        self.airplaneid = airplaneid\n",
    "        #self.copilotid = copilotid\n",
    "        #self.pilotid = pilotid\n",
    "        self.departairportid = departairportid\n",
    "        self.arriairportid = arriairportid\n",
    "        k = flight.createpath(departairportid,arriairportid,edge,airplaneid)\n",
    "        self.pathid = k\n",
    "        self.initialposition = airports[departairportid-1].location\n",
    "        self.takeoftime = takeoftime\n",
    "        self.endtime = 1#takeoftime + paths[k-1].path[paths[k-1].steps-1][1]\n",
    "        self.time = 0\n",
    "       # slef.tdist = 0 \n",
    "      #self.pathcovered = 0\n",
    "    \n",
    "    def createpath(a,b,c,d):\n",
    "        k = path(airports[a-1].location,airports[b-1].location,c,d)\n",
    "        paths.append(k)\n",
    "        pathid = k.id\n",
    "        return pathid\n",
    "    \n",
    "    def repopulate(a,b,c):\n",
    "        airports[a-1].population = airports[a-1].population - c\n",
    "        airports[b-1].population = airports[b-1].population + c\n",
    "        return c\n",
    "    \n",
    "    def count():\n",
    "        flight.id = flight.id +1\n",
    "        return flight.id\n",
    "    \n",
    "    def computeendtime(a,b,c):\n",
    "        noofkm = paths[b-1].steps\n",
    "        timet = int(noofkm/airplanes[c-1].vinair)*60\n",
    "        return a+timet\n",
    "    \n",
    "    def currentposi(a,b):\n",
    "        pass\n",
    "        \n",
    "        \n",
    "    def __repr__(self): \n",
    "        return \"Flight id:% s No of passengers:% s Airplane id:% s Depart Airpot ID:% s Airrival Airport ID:% s Path ID:% s Initial Position:% s Take of time:% s Landing time:% s\\n\" % (self.id, self.noofpassengers, self.airplaneid, self.departairportid, self.arriairportid, self.pathid, self.initialposition, self.takeoftime, self.endtime)\n",
    "        \n",
    "        \n",
    "\n",
    "        \n",
    "\n",
    "        \n",
    "class path:\n",
    "    id = 0\n",
    "    pathcord = []\n",
    "    def __init__(self,startloc,endloc,edgelength, airplid):\n",
    "        self.id = path.count()\n",
    "        self.startloc = startloc\n",
    "        self.endloc = endloc\n",
    "        self.path, self.steps = path.buildpath(startloc,endloc,edgelength,airplid)\n",
    "    \n",
    "    def __repr__(self): \n",
    "        return \"Path id:% s Start Location:% s End Location:% s\" % (self.id, self.startloc, self.endloc)\n",
    "    \n",
    "    def buildpath(startloc,endloc,edgelength, airplid):\n",
    "        current = startloc\n",
    "        x = edgelength - endloc%edgelength \n",
    "        y = edgelength - int(endloc/edgelength)-1\n",
    "        srem = startloc%edgelength                                   # start remainder\n",
    "        erem = endloc%edgelength             # end reminder, using it we will gonna find where the path is right or left directed\n",
    "        mpath = []\n",
    "        avair = airplanes[airplid-1].vinair\n",
    "        temp = 60/avair\n",
    "        mpath.append([current,0])\n",
    "        i = 1\n",
    "        if startloc<endloc and srem<erem:    \n",
    "            while current != endloc and i<(edgelength**2):\n",
    "                if i%2!=0 and int((current+(y*edgelength))/(edgelength*(edgelength-1)))!=1:\n",
    "                    current = current + edgelength\n",
    "                    mpath.append([current, i*temp])\n",
    "                elif int((current+x-1)/edgelength)!=1 :\n",
    "                    current = current + 1\n",
    "                    mpath.append([current, i*temp])\n",
    "                i+=1\n",
    "            mpaths = [mpath,i]\n",
    "            return mpaths\n",
    "        elif startloc>endloc and srem>erem:\n",
    "            while current != endloc and i<(edgelength**2):\n",
    "                if i%2!=0 and (current-((edgelength-y-1)*edgelength))>edgelength:\n",
    "                    current = current - edgelength\n",
    "                    mpath.append([current, i*temp])\n",
    "                elif int((current-x+1)/edgelength)!=1 :\n",
    "                    current = current - 1\n",
    "                    mpath.append([current, i*temp])\n",
    "                i+=1\n",
    "            mpaths = [mpath,i]\n",
    "            return mpaths\n",
    "        elif startloc<endloc and srem>erem:    \n",
    "            while current != endloc and i<(edgelength**2):\n",
    "                if i%2!=0 and int((current+(y*edgelength))/(edgelength*(edgelength-1)))!=1:\n",
    "                    current = current + edgelength\n",
    "                    mpath.append([current, i*temp])\n",
    "                elif int((current-x+1)/edgelength)!=1 :\n",
    "                    current = current - 1\n",
    "                    mpath.append([current, i*temp])\n",
    "                i+=1\n",
    "            mpaths = [mpath,i]\n",
    "            return mpaths\n",
    "        else:\n",
    "            while current != endloc and i<(edgelength**2):\n",
    "                if i%2!=0 and (current-((edgelength-y-1)*edgelength))>edgelength:\n",
    "                    current = current - edgelength\n",
    "                    mpath.append([current, i*temp])\n",
    "                elif int((current+x-1)/(edgelength))!=1 :\n",
    "                    current = current + 1\n",
    "                    mpath.append([current, i*temp])\n",
    "                i+=1\n",
    "            mpaths = [mpath,i]\n",
    "            return mpaths\n",
    "    \n",
    "    def count():\n",
    "        path.id = path.id +1\n",
    "        return path.id\n",
    "        \n",
    "    def checkpatheveryminute(intialposition,t):\n",
    "        if (collision=='true'):\n",
    "            updatepath(intialposition,t)\n",
    "    \n",
    "    def updatepath(intialposition,t):\n",
    "        pass\n",
    "\n",
    "    \n",
    "# Main Containers\n",
    "airplanes = []\n",
    "airports = []\n",
    "flights = []\n",
    "paths = []\n",
    "\n",
    "#class pilot:\n",
    " #  def __init__(self,licencetype):\n",
    "  #      self.id = id+1\n",
    "   #     self.name = \"P\" + str(id)\n",
    "    #    seldf.licencetype\n",
    "\n",
    "#class passenger:\n",
    " #   id = 0\n",
    "  #  def __init__(self,population)\n",
    "   #     self.id = id+1\n",
    "    #    self.name = \"P\" + str(id)\n",
    "        \n",
    "def declairport(end, num, edgelength, population):\n",
    "    # Airport Coordinates\n",
    "    res = []\n",
    "    j = 0\n",
    "    t = 0\n",
    "    while j<num :\n",
    "        t = 0\n",
    "        k = random.randrange(1, end)\n",
    "        j= j+1\n",
    "        for i in res:\n",
    "            if k== i:\n",
    "                j = j-1\n",
    "                t = 1\n",
    "        if t==0:\n",
    "            if k%edgelength!=0 and k%(edgelength*(edgelength-1))!=0 and (k-1)%edgelength!=0 :\n",
    "                res.append(k)                     # Check\n",
    "    lres = len(res)\n",
    "    # for population distribution\n",
    "    pop = []\n",
    "    temppop = population\n",
    "    for i in range(lres):\n",
    "        if lres== lres-1 :\n",
    "            pop.append(temppop)\n",
    "            pass\n",
    "        m = random.randrange(400, int(population/(lres-1)))\n",
    "        pop.append(m)\n",
    "        temppop = temppop-m\n",
    "     \n",
    "    i = 0\n",
    "    for i in range(lres):\n",
    "        airports.append(airport(res[i],pop[i]))\n",
    "    print(airports)\n",
    "#     print(pop)    \n",
    "\n",
    "def declairplane(population):\n",
    "    tempsum = int(0.005*population)\n",
    "    i = 0\n",
    "    while tempsum>0 :\n",
    "        if i%5==0 :\n",
    "            airplanes.append(airplane('Global 6500',20,900,1,1,1))\n",
    "            tempsum = tempsum - 20\n",
    "            i=i+1\n",
    "        else:\n",
    "            airplanes.append(airplane('Boeing 737',400,700,2,2,2))\n",
    "            tempsum = tempsum - 120\n",
    "            i=i+1\n",
    "    print(airplanes)\n",
    "    return i\n",
    "    \n",
    "def coordinate(a,b):               # a is 1D coordinate and b is timeline\n",
    "    x = a%b \n",
    "    y = int(a/b)+1\n",
    "    c = [x,y]\n",
    "    return c\n",
    "\n",
    "def twodpath(a,b):\n",
    "    i = 1\n",
    "    x = []\n",
    "    y = []\n",
    "    while i<paths[a-1].steps :\n",
    "        temp = paths[a-1].path[i][0]\n",
    "        x1, y1 = coordinate(temp, b)\n",
    "        x.append(x1)\n",
    "        y.append(y1)\n",
    "        i +=1\n",
    "    c = [x,y]\n",
    "    return c\n",
    "\n",
    "def altitudepath(a) :\n",
    "    i = 1\n",
    "    x = []\n",
    "    y = []\n",
    "    while i<paths[a-1].steps :\n",
    "        temp = paths[a-1].path[i][1]\n",
    "        x1 = temp\n",
    "        y1 = 10\n",
    "        x.append(x1)\n",
    "        y.append(y1)\n",
    "        i +=1\n",
    "    c = [x,y]\n",
    "    return c\n",
    "\n",
    "def airportplot(b) :\n",
    "    i = 0\n",
    "    x = []\n",
    "    y = []\n",
    "    l = len(airports)\n",
    "    while i<l :\n",
    "        temp = airports[i-1].location\n",
    "        x1, y1 = coordinate(temp, b)\n",
    "        x.append(x1)\n",
    "        y.append(y1)\n",
    "        i +=1\n",
    "    plt.scatter(x, y, label= \"stars\", color= \"green\", marker= \"*\", s=30)\n",
    "    plt.title('Location of Airports in the State') # Title of the plot\n",
    "    plt.xlabel('x axis') # X-Label\n",
    "    plt.ylabel('y axis') # Y-Label\n",
    "    # show() is used for displaying the plot\n",
    "    plt.show()\n",
    "\n",
    "\n",
    "def plot(X,Y,xs,ys,s):                         \n",
    "    plt.plot(X, Y)\n",
    "    # Adding title, xlabel and ylabel\n",
    "    plt.title(s) # Title of the plot\n",
    "    plt.xlabel(xs) # X-Label\n",
    "    plt.ylabel(ys) # Y-Label\n",
    "    # show() is used for displaying the plot\n",
    "    plt.show()\n",
    "\n",
    "    \n",
    "    \n",
    "\n",
    "if __name__ == '__main__':\n",
    "     # Envirnment\n",
    "    a = int(input('Enter Area of your state in b/w 1000 kmsq and 100000000 km sq: '))\n",
    "    population = int(input('Enter your state population in b/w 20000 to 1000000: '))\n",
    "    \n",
    "    noofairports = int((a/1000)*2)\n",
    "    edgelength = int(math.sqrt(a))\n",
    "    area = edgelength**2\n",
    "    print('Standardise area of state: ', area, edgelength)\n",
    "    declairport(area,noofairports, edgelength, population)\n",
    "    inair = declairplane(population)\n",
    "    print(inair)\n",
    "    m = edgelength\n",
    "    airportplot(m)\n",
    "    \n",
    "    # Simulator\n",
    "    perform = int(input('Enter the no of minutes you want to run this simulation'))\n",
    "    flyingnow = 0\n",
    "    k = 1\n",
    "    realtime = 0\n",
    "    airplaneidno = 0    \n",
    "    while k<perform :\n",
    "        arrival = random.choice(airports)\n",
    "        \n",
    "        # Flight Creator\n",
    "        if realtime==0 :\n",
    "            arrivallast = arrival\n",
    "        destination = random.choice(airports)\n",
    "        airplanealot = airplanes[airplaneidno]\n",
    "        cancheckout = airplanealot.maxcapacity\n",
    "#         print('arr: %s \\n des; %s', arrival, destination)\n",
    "        if arrival == destination :                          # Flight Runner\n",
    "            pass\n",
    "        elif arrivallast.id == arrival.id and (arrivallast.lastflytime)+5>realtime :\n",
    "            pass\n",
    "        elif airports[arrival.id-1].population>0:\n",
    "            flights.append(flight(cancheckout, airplanealot.id, arrival.id, destination.id, edgelength, realtime))\n",
    "            airplaneidno = airplaneidno + 1\n",
    "            if airplaneidno==inair:\n",
    "                airplaneidno = 0\n",
    "            arrivallast = arrival  \n",
    "            arrivallast.lastflytime = realtime                # Flight end    \n",
    "\n",
    "        k=k+1\n",
    "        realtime = realtime + 1\n",
    "\n",
    "    print(flights)\n",
    "    c = 1\n",
    "    while 1 :\n",
    "        c = int(input('Enter pathid of airplane to see its path or 0 to exit'))\n",
    "        if c== 0 :\n",
    "            break\n",
    "        else:\n",
    "            X,Y = twodpath(c,m)\n",
    "            X1,Y1 = altitudepath(c)\n",
    "            plot(X,Y,'x axis','y axis', 'path')\n",
    "            plot(X1,Y1,'Time','altidute', 'path')\n",
    "    \n",
    "    "
   ]
  },
  {
   "cell_type": "code",
   "execution_count": 6,
   "metadata": {},
   "outputs": [
    {
     "data": {
      "image/png": "[encoded data removed]",
      "text/plain": [
       "<Figure size 432x288 with 1 Axes>"
      ]
     },
     "metadata": {
      "needs_background": "light"
     },
     "output_type": "display_data"
    },
    {
     "data": {
      "text/plain": [
       "[26, 23]"
      ]
     },
     "execution_count": 6,
     "metadata": {},
     "output_type": "execute_result"
    }
   ],
   "source": [
    "m = edgelength\n",
    "airportplot(m)\n",
    "f = airports[0].location\n",
    "coordinate(f,m)"
   ]
  },
  {
   "cell_type": "code",
   "execution_count": 7,
   "metadata": {},
   "outputs": [
    {
     "data": {
      "image/png": "[encoded data removed]",
      "text/plain": [
       "<Figure size 432x288 with 1 Axes>"
      ]
     },
     "metadata": {
      "needs_background": "light"
     },
     "output_type": "display_data"
    },
    {
     "data": {
      "image/png": "[encoded data removed]",
      "text/plain": [
       "<Figure size 432x288 with 1 Axes>"
      ]
     },
     "metadata": {
      "needs_background": "light"
     },
     "output_type": "display_data"
    }
   ],
   "source": [
    "k = 2\n",
    "X,Y = twodpath(k,m)\n",
    "X1,Y1 = altitudepath(k)\n",
    "plot(X,Y,'x axis','y axis', 'path')\n",
    "plot(X1,Y1,'Time','altidute', 'path')\n"
   ]
  },
  {
   "cell_type": "code",
   "execution_count": null,
   "metadata": {},
   "outputs": [],
   "source": [
    "\n"
   ]
  },
  {
   "cell_type": "code",
   "execution_count": 10,
   "metadata": {},
   "outputs": [
    {
     "data": {
      "text/plain": [
       "6201"
      ]
     },
     "execution_count": 10,
     "metadata": {},
     "output_type": "execute_result"
    }
   ],
   "source": [
    "airports[1].location"
   ]
  },
  {
   "cell_type": "code",
   "execution_count": 19,
   "metadata": {},
   "outputs": [
    {
     "data": {
      "text/plain": [
       "[4, 191]"
      ]
     },
     "execution_count": 19,
     "metadata": {},
     "output_type": "execute_result"
    }
   ],
   "source": [
    "coordinate(19004,100)"
   ]
  },
  {
   "cell_type": "code",
   "execution_count": 9,
   "metadata": {},
   "outputs": [],
   "source": []
  },
  {
   "cell_type": "code",
   "execution_count": 10,
   "metadata": {},
   "outputs": [
    {
     "data": {
      "text/plain": [
       "[0, 1]"
      ]
     },
     "execution_count": 10,
     "metadata": {},
     "output_type": "execute_result"
    }
   ],
   "source": []
  },
  {
   "cell_type": "code",
   "execution_count": 3,
   "metadata": {},
   "outputs": [
    {
     "name": "stdout",
     "output_type": "stream",
     "text": [
      "[12, 17, 18, 23, 24, 25, 26, 27, 28, 29, 30, 31, 32, 33, 34, 35, 36, 37, 38, 39, 40, 45, 46, 51, 52]\n"
     ]
    }
   ],
   "source": [
    " def buildpath(startloc,endloc,edgelength):\n",
    "        current = startloc\n",
    "        \n",
    "        mpath = []\n",
    "        mpath.append(current)\n",
    "        i = 1\n",
    "        if startloc<endloc :    \n",
    "            while current != endloc and i<(edgelength**2) :\n",
    "                if i%2!=0 and int(current/(edgelength*(edgelength-1)))!=1 :\n",
    "                    current = current + edgelength\n",
    "                    mpath.append(current)\n",
    "                elif int(current/edgelength)!=1 :\n",
    "                    current = current + 1\n",
    "                    mpath.append(current)\n",
    "                i+=1\n",
    "            return mpath\n",
    "        else:\n",
    "            while current != endloc and i<(edgelength**2) :\n",
    "                if i%2!=0 and current>edgelength:\n",
    "                    current = current - edgelength\n",
    "                    mpath.append(current)\n",
    "                elif int(current/(edgelength+1))!=1 :\n",
    "                    current = current - 1\n",
    "                    mpath.append(current)\n",
    "                i+=1\n",
    "            return mpath\n",
    "\n",
    "k = buildpath(12,20,5)\n",
    "print(k)"
   ]
  },
  {
   "cell_type": "code",
   "execution_count": 15,
   "metadata": {},
   "outputs": [
    {
     "name": "stdout",
     "output_type": "stream",
     "text": [
      "2\n"
     ]
    }
   ],
   "source": [
    "current = 19\n",
    "edgelength = 5\n",
    "if int(current/(edgelength*(edgelength-1)))!=1 :\n",
    "    print(2)"
   ]
  },
  {
   "cell_type": "code",
   "execution_count": 55,
   "metadata": {},
   "outputs": [
    {
     "name": "stdout",
     "output_type": "stream",
     "text": [
      "[19, 14, 13, 8]\n"
     ]
    }
   ],
   "source": [
    " def buildpath(startloc,endloc,edgelength):\n",
    "        current = startloc\n",
    "        x = edgelength - endloc%edgelength \n",
    "        y = edgelength - int(endloc/edgelength)-1\n",
    "        srem = startloc%edgelength                                  # start remainder\n",
    "        erem = endloc%edgelength             # end reminder, using it we will gonna find where the path is right or left directed\n",
    "        mpath = []\n",
    "        mpath.append(current)\n",
    "        i = 1\n",
    "        if startloc<endloc and srem<erem:    \n",
    "            while current != endloc and i<(edgelength**2):\n",
    "                if i%2!=0 and int((current+(y*edgelength))/(edgelength*(edgelength-1)))!=1:\n",
    "                    current = current + edgelength\n",
    "                    mpath.append(current)\n",
    "                elif int((current+x-1)/edgelength)!=1 :\n",
    "                    current = current + 1\n",
    "                    mpath.append(current)\n",
    "                i+=1\n",
    "            return mpath\n",
    "        elif startloc>endloc and srem>erem:\n",
    "            while current != endloc and i<(edgelength**2):\n",
    "                if i%2!=0 and (current-((edgelength-y-1)*edgelength))>edgelength:\n",
    "                    current = current - edgelength\n",
    "                    mpath.append(current)\n",
    "                elif int((current-x+1)/edgelength)!=1  :\n",
    "                    current = current - 1\n",
    "                    mpath.append(current)\n",
    "                i+=1\n",
    "            return mpath\n",
    "        elif startloc<endloc and srem>erem:    \n",
    "            while current != endloc and i<(edgelength**2):\n",
    "                if i%2!=0 and int((current+(y*edgelength))/(edgelength*(edgelength-1)))!=1:\n",
    "                    current = current + edgelength\n",
    "                    mpath.append(current)\n",
    "                elif int((current-x+1)/edgelength)!=1 :\n",
    "                    current = current - 1\n",
    "                    mpath.append(current)\n",
    "                i+=1\n",
    "            return mpath\n",
    "        else:\n",
    "            while current != endloc and i<(edgelength**2):\n",
    "                if i%2!=0 and (current-((edgelength-y-1)*edgelength))>edgelength:\n",
    "                    current = current - edgelength\n",
    "                    mpath.append(current)\n",
    "                elif int((current+x-1)/(edgelength))!=1 :\n",
    "                    current = current + 1\n",
    "                    mpath.append(current)\n",
    "                i+=1\n",
    "            return mpath\n",
    "\n",
    "k = buildpath(19,8,5)\n",
    "print(k)"
   ]
  },
  {
   "cell_type": "code",
   "execution_count": 156,
   "metadata": {},
   "outputs": [
    {
     "data": {
      "text/plain": [
       "497"
      ]
     },
     "execution_count": 156,
     "metadata": {},
     "output_type": "execute_result"
    }
   ],
   "source": []
  },
  {
   "cell_type": "code",
   "execution_count": 158,
   "metadata": {},
   "outputs": [
    {
     "data": {
      "text/plain": [
       "[1, 17]"
      ]
     },
     "execution_count": 158,
     "metadata": {},
     "output_type": "execute_result"
    }
   ],
   "source": [
    "coordinate(497,31)"
   ]
  },
  {
   "cell_type": "code",
   "execution_count": 116,
   "metadata": {},
   "outputs": [
    {
     "data": {
      "text/plain": [
       "164"
      ]
     },
     "execution_count": 116,
     "metadata": {},
     "output_type": "execute_result"
    }
   ],
   "source": [
    "paths[2].steps"
   ]
  },
  {
   "cell_type": "code",
   "execution_count": 117,
   "metadata": {},
   "outputs": [
    {
     "data": {
      "text/plain": [
       "[[7201, 0],\n",
       " [7101, 0.06666666666666667],\n",
       " [7102, 0.13333333333333333],\n",
       " [7002, 0.2],\n",
       " [7003, 0.26666666666666666],\n",
       " [6903, 0.3333333333333333],\n",
       " [6904, 0.4],\n",
       " [6804, 0.4666666666666667],\n",
       " [6805, 0.5333333333333333],\n",
       " [6705, 0.6],\n",
       " [6706, 0.6666666666666666],\n",
       " [6606, 0.7333333333333333],\n",
       " [6607, 0.8],\n",
       " [6507, 0.8666666666666667],\n",
       " [6508, 0.9333333333333333],\n",
       " [6408, 1.0],\n",
       " [6409, 1.0666666666666667],\n",
       " [6309, 1.1333333333333333],\n",
       " [6310, 1.2],\n",
       " [6210, 1.2666666666666666],\n",
       " [6211, 1.3333333333333333],\n",
       " [6111, 1.4],\n",
       " [6112, 1.4666666666666666],\n",
       " [6012, 1.5333333333333332],\n",
       " [6013, 1.6],\n",
       " [5913, 1.6666666666666667],\n",
       " [5914, 1.7333333333333334],\n",
       " [5814, 1.8],\n",
       " [5815, 1.8666666666666667],\n",
       " [5715, 1.9333333333333333],\n",
       " [5716, 2.0],\n",
       " [5616, 2.0666666666666664],\n",
       " [5617, 2.1333333333333333],\n",
       " [5517, 2.2],\n",
       " [5518, 2.2666666666666666],\n",
       " [5418, 2.3333333333333335],\n",
       " [5419, 2.4],\n",
       " [5319, 2.466666666666667],\n",
       " [5320, 2.533333333333333],\n",
       " [5220, 2.6],\n",
       " [5221, 2.6666666666666665],\n",
       " [5121, 2.7333333333333334],\n",
       " [5122, 2.8],\n",
       " [5022, 2.8666666666666667],\n",
       " [5023, 2.933333333333333],\n",
       " [4923, 3.0],\n",
       " [4924, 3.0666666666666664],\n",
       " [4824, 3.1333333333333333],\n",
       " [4825, 3.2],\n",
       " [4725, 3.2666666666666666],\n",
       " [4726, 3.3333333333333335],\n",
       " [4626, 3.4],\n",
       " [4627, 3.466666666666667],\n",
       " [4527, 3.533333333333333],\n",
       " [4528, 3.6],\n",
       " [4428, 3.6666666666666665],\n",
       " [4429, 3.7333333333333334],\n",
       " [4329, 3.8],\n",
       " [4330, 3.8666666666666667],\n",
       " [4230, 3.933333333333333],\n",
       " [4231, 4.0],\n",
       " [4131, 4.066666666666666],\n",
       " [4132, 4.133333333333333],\n",
       " [4032, 4.2],\n",
       " [4033, 4.266666666666667],\n",
       " [3933, 4.333333333333333],\n",
       " [3934, 4.4],\n",
       " [3834, 4.466666666666667],\n",
       " [3835, 4.533333333333333],\n",
       " [3735, 4.6],\n",
       " [3736, 4.666666666666667],\n",
       " [3636, 4.733333333333333],\n",
       " [3637, 4.8],\n",
       " [3537, 4.866666666666666],\n",
       " [3538, 4.933333333333334],\n",
       " [3438, 5.0],\n",
       " [3439, 5.066666666666666],\n",
       " [3339, 5.133333333333333],\n",
       " [3340, 5.2],\n",
       " [3240, 5.266666666666667],\n",
       " [3241, 5.333333333333333],\n",
       " [3141, 5.4],\n",
       " [3142, 5.466666666666667],\n",
       " [3042, 5.533333333333333],\n",
       " [3043, 5.6],\n",
       " [2943, 5.666666666666667],\n",
       " [2944, 5.733333333333333],\n",
       " [2844, 5.8],\n",
       " [2845, 5.866666666666666],\n",
       " [2745, 5.933333333333334],\n",
       " [2746, 6.0],\n",
       " [2646, 6.066666666666666],\n",
       " [2647, 6.133333333333333],\n",
       " [2547, 6.2],\n",
       " [2548, 6.266666666666667],\n",
       " [2448, 6.333333333333333],\n",
       " [2449, 6.4],\n",
       " [2349, 6.466666666666667],\n",
       " [2350, 6.533333333333333],\n",
       " [2250, 6.6],\n",
       " [2251, 6.666666666666667],\n",
       " [2151, 6.733333333333333],\n",
       " [2152, 6.8],\n",
       " [2052, 6.866666666666666],\n",
       " [2053, 6.933333333333334],\n",
       " [1953, 7.0],\n",
       " [1954, 7.066666666666666],\n",
       " [1854, 7.133333333333333],\n",
       " [1855, 7.2],\n",
       " [1755, 7.266666666666667],\n",
       " [1756, 7.333333333333333],\n",
       " [1656, 7.3999999999999995],\n",
       " [1657, 7.466666666666667],\n",
       " [1557, 7.533333333333333],\n",
       " [1558, 7.6],\n",
       " [1458, 7.666666666666667],\n",
       " [1459, 7.733333333333333],\n",
       " [1359, 7.8],\n",
       " [1360, 7.866666666666666],\n",
       " [1260, 7.933333333333334],\n",
       " [1261, 8.0],\n",
       " [1161, 8.066666666666666],\n",
       " [1162, 8.133333333333333],\n",
       " [1062, 8.2],\n",
       " [1063, 8.266666666666666],\n",
       " [1064, 8.333333333333334],\n",
       " [1065, 8.4],\n",
       " [1066, 8.466666666666667],\n",
       " [1067, 8.533333333333333],\n",
       " [1068, 8.6],\n",
       " [1069, 8.666666666666666],\n",
       " [1070, 8.733333333333333],\n",
       " [1071, 8.8],\n",
       " [1072, 8.866666666666667],\n",
       " [1073, 8.933333333333334],\n",
       " [1074, 9.0],\n",
       " [1075, 9.066666666666666],\n",
       " [1076, 9.133333333333333],\n",
       " [1077, 9.2],\n",
       " [1078, 9.266666666666666],\n",
       " [1079, 9.333333333333334],\n",
       " [1080, 9.4],\n",
       " [1081, 9.466666666666667],\n",
       " [1082, 9.533333333333333],\n",
       " [1083, 9.6],\n",
       " [1084, 9.666666666666666],\n",
       " [1085, 9.733333333333333],\n",
       " [1086, 9.8],\n",
       " [1087, 9.866666666666667],\n",
       " [1088, 9.933333333333334],\n",
       " [1089, 10.0],\n",
       " [1090, 10.066666666666666],\n",
       " [1091, 10.133333333333333],\n",
       " [1092, 10.2],\n",
       " [1093, 10.266666666666666],\n",
       " [1094, 10.333333333333334],\n",
       " [1095, 10.4],\n",
       " [1096, 10.466666666666667],\n",
       " [1097, 10.533333333333333],\n",
       " [1098, 10.6],\n",
       " [1099, 10.666666666666666],\n",
       " [1100, 10.733333333333333],\n",
       " [1101, 10.8],\n",
       " [1001, 10.866666666666667]]"
      ]
     },
     "execution_count": 117,
     "metadata": {},
     "output_type": "execute_result"
    }
   ],
   "source": [
    "paths[2].path"
   ]
  },
  {
   "cell_type": "code",
   "execution_count": 139,
   "metadata": {},
   "outputs": [
    {
     "data": {
      "text/plain": [
       "8"
      ]
     },
     "execution_count": 139,
     "metadata": {},
     "output_type": "execute_result"
    }
   ],
   "source": [
    "len(airports)"
   ]
  },
  {
   "cell_type": "code",
   "execution_count": null,
   "metadata": {},
   "outputs": [],
   "source": []
  }
 ],
 "metadata": {
  "kernelspec": {
   "display_name": "Python 3",
   "language": "python",
   "name": "python3"
  },
  "language_info": {
   "codemirror_mode": {
    "name": "ipython",
    "version": 3
   },
   "file_extension": ".py",
   "mimetype": "text/x-python",
   "name": "python",
   "nbconvert_exporter": "python",
   "pygments_lexer": "ipython3",
   "version": "3.8.5"
  }
 },
 "nbformat": 4,
 "nbformat_minor": 4
}
