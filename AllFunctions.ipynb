{
 "cells": [
  {
   "cell_type": "code",
   "execution_count": 1,
   "metadata": {},
   "outputs": [],
   "source": [
    "import numpy as np"
   ]
  },
  {
   "cell_type": "code",
   "execution_count": 9,
   "metadata": {},
   "outputs": [
    {
     "name": "stdout",
     "output_type": "stream",
     "text": [
      "Enter length of Area1000000000000\n",
      "Enter bredth of Area10000000000000\n"
     ]
    },
    {
     "data": {
      "text/plain": [
       "(400000000000000000000000000, 81)"
      ]
     },
     "execution_count": 9,
     "metadata": {},
     "output_type": "execute_result"
    }
   ],
   "source": [
    "## area in kilometers, max height is 40km, cordinates of 111111 is (11,11,11)\n",
    "def cordinatesys(a):\n",
    "    runit = a*40\n",
    "    rpoints = 3*runit\n",
    "    number = runit\n",
    "    count = 0\n",
    "    while (number > 0):\n",
    "        number = number//10\n",
    "        count = count + 1\n",
    "    rdigitn = 3*count\n",
    "    return runit, rdigitn\n",
    "\n",
    "l = int(input(\"Enter length of Area\"))\n",
    "b = int(input(\"Enter bredth of Area\"))\n",
    "area = l*b\n",
    "cordinatesys(area)\n",
    "    "
   ]
  },
  {
   "cell_type": "code",
   "execution_count": null,
   "metadata": {},
   "outputs": [],
   "source": []
  }
 ],
 "metadata": {
  "kernelspec": {
   "display_name": "Python 3",
   "language": "python",
   "name": "python3"
  },
  "language_info": {
   "codemirror_mode": {
    "name": "ipython",
    "version": 3
   },
   "file_extension": ".py",
   "mimetype": "text/x-python",
   "name": "python",
   "nbconvert_exporter": "python",
   "pygments_lexer": "ipython3",
   "version": "3.8.5"
  }
 },
 "nbformat": 4,
 "nbformat_minor": 4
}
