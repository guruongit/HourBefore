{
 "cells": [
  {
   "cell_type": "code",
   "execution_count": 1,
   "metadata": {},
   "outputs": [],
   "source": [
    "import numpy as np"
   ]
  },
  {
   "cell_type": "code",
   "execution_count": null,
   "metadata": {},
   "outputs": [],
   "source": [
    "## area in kilometers, max height is 40km, cordinates of 111111 is (11,11,11), min airport distance is 2*(2^(1/2))\n",
    "## Max and min popolation density is by defalt 20 and 5 respectively, anytime 2% of population should be in air\n",
    "## capacity of a passenger plane is 90+10, avg speed of airplane is 200km/hr\n",
    "def cordinatesys(a):\n",
    "    runit = a*40\n",
    "    rpoints = 3*runit\n",
    "    number = runit\n",
    "    count = 0\n",
    "    while (number > 0):\n",
    "        number = number//10\n",
    "        count = count + 1\n",
    "    rdigitn = 3*count\n",
    "    return runit, rdigitn\n",
    "\n",
    "def flights(nu,nd,a,l,b):\n",
    "    maxarp=a/10000    \n",
    "    minarp = 2\n",
    "    print('Enter the no of airport in range of',minarp,maxarp)\n",
    "    l = int(input(\"N =\"))\n",
    "    maxpop = a*20\n",
    "    minpop = a*5\n",
    "    print('Enter the population value in range of',minpop,maxpop)\n",
    "    k = int(input(\"N =\"))\n",
    "    npa = 2/100*k  ## no of population in air anytime\n",
    "    print(npa)\n",
    "    narpln= npa/90  ## no of airplanes\n",
    "    print('Enter no of total airplane in state value in range of',narpln,narpln*1.1)\n",
    "    p = int(input(\"N =\"))\n",
    "    ## minimum dist b/w two airplanes is 100km\n",
    "    maxd = ((l*l) + (b*b))**0.5\n",
    "    avgft =   (100+maxd)/200*60   ##minimum time of flight in min\n",
    "    rfl = p/avgft   ##rate of flight in entire states \n",
    "    print(rfl)\n",
    "    return rfl, p, k\n",
    "    \n",
    "\n",
    "\n",
    "l = int(input(\"Enter length of Area\"))\n",
    "b = int(input(\"Enter bredth of Area\"))\n",
    "area = l*b\n",
    "nu,nd = cordinatesys(area)\n",
    "print(nu,nd)\n",
    "rflight, nairpln, npop  = flights(nu,nd,area,l,b)\n"
   ]
  },
  {
   "cell_type": "code",
   "execution_count": null,
   "metadata": {},
   "outputs": [],
   "source": []
  }
 ],
 "metadata": {
  "kernelspec": {
   "display_name": "Python 3",
   "language": "python",
   "name": "python3"
  },
  "language_info": {
   "codemirror_mode": {
    "name": "ipython",
    "version": 3
   },
   "file_extension": ".py",
   "mimetype": "text/x-python",
   "name": "python",
   "nbconvert_exporter": "python",
   "pygments_lexer": "ipython3",
   "version": "3.8.5"
  }
 },
 "nbformat": 4,
 "nbformat_minor": 4
}
